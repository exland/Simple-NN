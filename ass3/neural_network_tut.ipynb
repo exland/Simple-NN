{
 "cells": [
  {
   "cell_type": "markdown",
   "metadata": {},
   "source": [
    "# Mathematics of Neural Networks"
   ]
  },
  {
   "cell_type": "code",
   "execution_count": 155,
   "metadata": {},
   "outputs": [],
   "source": [
    "from scipy.optimize import approx_fprime\n",
    "import numpy as np\n",
    "import matplotlib.pyplot as plt\n",
    "import time\n",
    "\n",
    "# %matplotlib notebook\n",
    "%matplotlib inline"
   ]
  },
  {
   "cell_type": "markdown",
   "metadata": {},
   "source": []
  },
  {
   "cell_type": "markdown",
   "metadata": {},
   "source": [
    "## Define the network"
   ]
  },
  {
   "cell_type": "markdown",
   "metadata": {},
   "source": [
    "### Forward"
   ]
  },
  {
   "cell_type": "code",
   "execution_count": 156,
   "metadata": {},
   "outputs": [],
   "source": [
    "def sigmoid(x):\n",
    "    return 1. / (1 + np.exp(-x))\n",
    "\n",
    "def linear(x):\n",
    "    return x\n",
    "\n",
    "def feed_forward(x, W, b, act):\n",
    "    a = [x]\n",
    "    z = [x]\n",
    "    for i, (Wi, bi, acti) in enumerate(zip(W, b, act)):\n",
    "        z.append(np.dot(Wi, a[i]) + bi)\n",
    "        a.append(acti(z[-1]))\n",
    "    \n",
    "    return a, z\n",
    "\n",
    "def loss(y, y_star):\n",
    "    return 0.50 * np.linalg.norm(y - y_star)**2"
   ]
  },
  {
   "cell_type": "markdown",
   "metadata": {},
   "source": [
    "#### Generate random input data"
   ]
  },
  {
   "cell_type": "code",
   "execution_count": 157,
   "metadata": {},
   "outputs": [],
   "source": [
    "# generate sample input\n",
    "np.random.seed(10)\n",
    "\n",
    "def init_params(ni,nh,no):\n",
    "    W = [np.random.randn(nh,ni),np.random.randn(no,nh)]\n",
    "    b = [np.random.randn(nh),np.random.randn(no)]\n",
    "    return W,b\n",
    "\n",
    "# set number of hidden units\n",
    "ni = 3\n",
    "nh = 4\n",
    "no = 2\n",
    "# input and groundtruth labels\n",
    "ipt = np.random.randn(ni)\n",
    "y_star = np.random.randn(no)\n",
    "\n",
    "\n",
    "W,b = init_params(ni=ni,nh=nh,no=no)\n",
    "\n",
    "# define activation functions\n",
    "activations = [sigmoid, linear]"
   ]
  },
  {
   "cell_type": "code",
   "execution_count": 158,
   "metadata": {},
   "outputs": [
    {
     "name": "stdout",
     "output_type": "stream",
     "text": [
      "[ 1.3315865   0.71527897 -1.54540029]\n",
      "[array([[-0.72008556,  0.26551159,  0.10854853],\n",
      "       [ 0.00429143, -0.17460021,  0.43302619],\n",
      "       [ 1.20303737, -0.96506567,  1.02827408],\n",
      "       [ 0.22863013,  0.44513761, -1.13660221]]), array([[ 0.13513688,  1.484537  , -1.07980489, -1.97772828],\n",
      "       [-1.7433723 ,  0.26607016,  2.38496733,  1.12369125]])]\n",
      "(4, 3)\n",
      "(2, 4)\n",
      "(4,)\n",
      "(2,)\n"
     ]
    }
   ],
   "source": [
    "print(ipt)\n",
    "print(W)\n",
    "print(W[0].shape)\n",
    "print(W[1].shape)\n",
    "print(b[0].shape)\n",
    "print(b[1].shape)"
   ]
  },
  {
   "cell_type": "code",
   "execution_count": 159,
   "metadata": {},
   "outputs": [
    {
     "name": "stdout",
     "output_type": "stream",
     "text": [
      "[array([ 1.67262221,  0.09914922,  1.39799638, -0.27124799]), array([ 0.61320418, -0.26731719])]\n",
      "(4,)\n",
      "(2,)\n"
     ]
    }
   ],
   "source": [
    "print(b)\n",
    "print(b[0].shape)\n",
    "print(b[1].shape)\n"
   ]
  },
  {
   "cell_type": "markdown",
   "metadata": {},
   "source": [
    "#### Check feed forward"
   ]
  },
  {
   "cell_type": "code",
   "execution_count": 160,
   "metadata": {},
   "outputs": [],
   "source": [
    "# evaluate input\n",
    "a, z = feed_forward(ipt, W, b, activations)"
   ]
  },
  {
   "cell_type": "code",
   "execution_count": 161,
   "metadata": {},
   "outputs": [
    {
     "name": "stdout",
     "output_type": "stream",
     "text": [
      "[array([ 1.3315865 ,  0.71527897, -1.54540029]), array([ 0.73592993, -0.68922303,  0.72055846,  2.10809577]), array([-1.28922081,  1.2493225 ])]\n",
      "(3,)\n",
      "(4,)\n",
      "(2,)\n"
     ]
    }
   ],
   "source": [
    "print(z)\n",
    "print(z[0].shape)\n",
    "print(z[1].shape)\n",
    "print(z[2].shape)"
   ]
  },
  {
   "cell_type": "code",
   "execution_count": 162,
   "metadata": {},
   "outputs": [
    {
     "name": "stdout",
     "output_type": "stream",
     "text": [
      "[array([ 1.3315865 ,  0.71527897, -1.54540029]), array([0.6761052 , 0.33420594, 0.67272998, 0.89168756]), array([-1.28922081,  1.2493225 ])]\n",
      "(3,)\n",
      "(4,)\n",
      "(2,)\n"
     ]
    }
   ],
   "source": [
    "print(a)\n",
    "print(a[0].shape)\n",
    "print(a[1].shape)\n",
    "print(a[2].shape)"
   ]
  },
  {
   "cell_type": "markdown",
   "metadata": {},
   "source": [
    "### Backward "
   ]
  },
  {
   "cell_type": "code",
   "execution_count": 163,
   "metadata": {},
   "outputs": [],
   "source": [
    "def d_sigmoid(x):\n",
    "    act = sigmoid(x)\n",
    "    return act * (1 - act)\n",
    "\n",
    "def d_linear(x):\n",
    "    return 1.\n",
    "\n",
    "def d_loss(y, y_star):\n",
    "    return y - y_star\n",
    "\n",
    "def back_prop(y_star, W, b, d_act, a, z):\n",
    "    # compute deltas in reversed order\n",
    "    assert(len(a) == len(z))\n",
    "    delta = [None] * len(a)\n",
    "    delta[-1] = d_act[-1](z[-1]) * d_loss(a[-1], y_star) # delta_L\n",
    "    for l in range(len(a) - 2, 0, -1):\n",
    "        delta[l] = d_act[l-1](z[l]) * W[l].T.dot(delta[l+1])\n",
    "                               \n",
    "    # compute gradient in W an b\n",
    "    dW = [None] * len(a)\n",
    "    db = [None] * len(a)\n",
    "    for l in range(len(a) - 1):\n",
    "        dW[l] = np.outer(delta[l+1], a[l])\n",
    "        db[l] = delta[l+1]\n",
    "        \n",
    "    return dW, db, delta"
   ]
  },
  {
   "cell_type": "markdown",
   "metadata": {},
   "source": [
    "#### Compute backward pass (=compute gradient)"
   ]
  },
  {
   "cell_type": "code",
   "execution_count": 164,
   "metadata": {},
   "outputs": [
    {
     "name": "stdout",
     "output_type": "stream",
     "text": [
      "asmkdmaksd1\n"
     ]
    }
   ],
   "source": [
    "# compute gradient\n",
    "d_act = [d_sigmoid, d_linear]\n",
    "dW, db, delta = back_prop(y_star, W, b, d_act, a, z)"
   ]
  },
  {
   "cell_type": "code",
   "execution_count": 165,
   "metadata": {},
   "outputs": [
    {
     "data": {
      "text/plain": [
       "[array([[-0.3697205 , -0.19860017,  0.42908678],\n",
       "        [-0.51388159, -0.27603817,  0.59639592],\n",
       "        [ 0.84455257,  0.45366237, -0.98016297],\n",
       "        [ 0.4165297 ,  0.22374433, -0.48341216]]),\n",
       " array([[-0.86598054, -0.42806332, -0.86165743, -1.14210639],\n",
       "        [ 0.42458496,  0.20987682,  0.42246537,  0.55996777]]),\n",
       " None]"
      ]
     },
     "execution_count": 165,
     "metadata": {},
     "output_type": "execute_result"
    }
   ],
   "source": [
    "dW"
   ]
  },
  {
   "cell_type": "code",
   "execution_count": 166,
   "metadata": {},
   "outputs": [
    {
     "data": {
      "text/plain": [
       "[array([-0.27765414, -0.38591679,  0.63424536,  0.31280709]),\n",
       " array([-1.28083696,  0.62798653]),\n",
       " None]"
      ]
     },
     "execution_count": 166,
     "metadata": {},
     "output_type": "execute_result"
    }
   ],
   "source": [
    "db"
   ]
  },
  {
   "cell_type": "markdown",
   "metadata": {},
   "source": [
    "#### Gradient check"
   ]
  },
  {
   "cell_type": "code",
   "execution_count": 167,
   "metadata": {},
   "outputs": [],
   "source": [
    "# define forward function\n",
    "def f(x, ipt, y_star):\n",
    "#     W0 = x[:4].reshape(4,1)\n",
    "#     W1 = x[4:8].reshape(1,4)\n",
    "#     b0 = x[8:12]\n",
    "#     b1 = x[12:]\n",
    "    W0 = x[:12].reshape(4,3)\n",
    "    W1 = x[12:20].reshape(2,4)\n",
    "    b0 = x[20:24]\n",
    "    b1 = x[24:]\n",
    "    \n",
    "    W = [W0, W1]\n",
    "    b = [b0, b1]\n",
    "    a, z = feed_forward(ipt, W, b, activations)\n",
    "    L = loss(a[-1], y_star)\n",
    "    return L"
   ]
  },
  {
   "cell_type": "code",
   "execution_count": 168,
   "metadata": {},
   "outputs": [],
   "source": [
    "# compute approximate gradient\n",
    "x_init = np.concatenate((W[0].ravel(), W[1].ravel(), b[0].ravel(), b[1].ravel()))\n",
    "grads = approx_fprime(x_init, f, 1e-6, ipt, y_star)"
   ]
  },
  {
   "cell_type": "code",
   "execution_count": 169,
   "metadata": {},
   "outputs": [
    {
     "data": {
      "text/plain": [
       "array([[-0.36972029, -0.1986001 ,  0.42908708],\n",
       "       [-0.5138816 , -0.27603817,  0.5963959 ],\n",
       "       [ 0.84455267,  0.4536624 , -0.98016284],\n",
       "       [ 0.41652952,  0.22374428, -0.4834124 ]])"
      ]
     },
     "execution_count": 169,
     "metadata": {},
     "output_type": "execute_result"
    }
   ],
   "source": [
    "# dW0 = grads[:4].reshape(4,1)\n",
    "dW0 = grads[:12].reshape(4,3)\n",
    "dW0"
   ]
  },
  {
   "cell_type": "code",
   "execution_count": 170,
   "metadata": {},
   "outputs": [
    {
     "data": {
      "text/plain": [
       "array([[-0.86598031, -0.42806326, -0.8616572 , -1.14210599],\n",
       "       [ 0.42458519,  0.20987688,  0.42246559,  0.55996817]])"
      ]
     },
     "execution_count": 170,
     "metadata": {},
     "output_type": "execute_result"
    }
   ],
   "source": [
    "# dW1 = grads[4:8].reshape(1,4)\n",
    "dW1 = grads[12:20].reshape(2,4)\n",
    "dW1"
   ]
  },
  {
   "cell_type": "code",
   "execution_count": 171,
   "metadata": {},
   "outputs": [
    {
     "data": {
      "text/plain": [
       "array([-0.27765401, -0.3859168 ,  0.63424542,  0.31280699])"
      ]
     },
     "execution_count": 171,
     "metadata": {},
     "output_type": "execute_result"
    }
   ],
   "source": [
    "# db0 = grads[8:12]\n",
    "db0 = grads[20:24]\n",
    "db0"
   ]
  },
  {
   "cell_type": "code",
   "execution_count": 172,
   "metadata": {},
   "outputs": [
    {
     "data": {
      "text/plain": [
       "array([-1.28083647,  0.62798703])"
      ]
     },
     "execution_count": 172,
     "metadata": {},
     "output_type": "execute_result"
    }
   ],
   "source": [
    "# db1 = grads[12:]\n",
    "db1 = grads[24:]\n",
    "db1"
   ]
  },
  {
   "cell_type": "code",
   "execution_count": 173,
   "metadata": {},
   "outputs": [
    {
     "data": {
      "text/plain": [
       "(True, True, True, True)"
      ]
     },
     "execution_count": 173,
     "metadata": {},
     "output_type": "execute_result"
    }
   ],
   "source": [
    "# compare approximate gradient with backprop implemenation\n",
    "# allclose checkes whether the difference between elements in two arrays is less than an epsilon\n",
    "np.allclose(dW[0], dW0), np.allclose(dW[1], dW1), np.allclose(db[0], db0), np.allclose(db[1], db1)"
   ]
  },
  {
   "cell_type": "markdown",
   "metadata": {},
   "source": [
    "## Learning a simple regression task"
   ]
  },
  {
   "cell_type": "markdown",
   "metadata": {},
   "source": [
    "### Generate and visualize data"
   ]
  },
  {
   "cell_type": "code",
   "execution_count": 174,
   "metadata": {},
   "outputs": [
    {
     "data": {
      "image/png": "[encoded data removed]",
      "text/plain": [
       "<Figure size 640x480 with 1 Axes>"
      ]
     },
     "metadata": {},
     "output_type": "display_data"
    }
   ],
   "source": [
    "# generate data samples: 1d nonlinear function fitting\n",
    "n = 200  \n",
    "x = np.random.uniform(low=-0.5,high=0.5,size=n)\n",
    "ystar = x**2 + 0.01*np.random.randn(n)\n",
    "\n",
    "plt.figure()\n",
    "plt.plot(x,ystar,'.')\n",
    "plt.show()"
   ]
  },
  {
   "cell_type": "markdown",
   "metadata": {},
   "source": [
    "### Learn the mapping"
   ]
  },
  {
   "cell_type": "code",
   "execution_count": 175,
   "metadata": {},
   "outputs": [
    {
     "name": "stdout",
     "output_type": "stream",
     "text": [
      "2.2341466451737073\n",
      "1.2200478188751218\n",
      "asmkdmaksd1\n",
      "asmkdmaksd1\n",
      "asmkdmaksd1\n",
      "asmkdmaksd1\n",
      "asmkdmaksd1\n",
      "asmkdmaksd1\n",
      "asmkdmaksd1\n",
      "asmkdmaksd1\n",
      "asmkdmaksd1\n",
      "asmkdmaksd1\n",
      "asmkdmaksd1\n",
      "asmkdmaksd1\n",
      "asmkdmaksd1\n",
      "asmkdmaksd1\n",
      "asmkdmaksd1\n",
      "asmkdmaksd1\n",
      "asmkdmaksd1\n",
      "asmkdmaksd1\n",
      "asmkdmaksd1\n",
      "asmkdmaksd1\n",
      "asmkdmaksd1\n",
      "asmkdmaksd1\n",
      "asmkdmaksd1\n",
      "asmkdmaksd1\n",
      "asmkdmaksd1\n",
      "asmkdmaksd1\n",
      "asmkdmaksd1\n",
      "asmkdmaksd1\n",
      "asmkdmaksd1\n",
      "asmkdmaksd1\n",
      "asmkdmaksd1\n",
      "asmkdmaksd1\n",
      "asmkdmaksd1\n",
      "asmkdmaksd1\n",
      "asmkdmaksd1\n",
      "asmkdmaksd1\n",
      "asmkdmaksd1\n",
      "asmkdmaksd1\n",
      "asmkdmaksd1\n",
      "asmkdmaksd1\n",
      "asmkdmaksd1\n",
      "asmkdmaksd1\n",
      "asmkdmaksd1\n",
      "asmkdmaksd1\n",
      "asmkdmaksd1\n",
      "asmkdmaksd1\n",
      "asmkdmaksd1\n",
      "asmkdmaksd1\n",
      "asmkdmaksd1\n",
      "asmkdmaksd1\n",
      "asmkdmaksd1\n",
      "asmkdmaksd1\n",
      "asmkdmaksd1\n",
      "asmkdmaksd1\n",
      "asmkdmaksd1\n",
      "asmkdmaksd1\n",
      "asmkdmaksd1\n",
      "asmkdmaksd1\n",
      "asmkdmaksd1\n",
      "asmkdmaksd1\n",
      "asmkdmaksd1\n",
      "asmkdmaksd1\n",
      "asmkdmaksd1\n",
      "asmkdmaksd1\n",
      "asmkdmaksd1\n",
      "asmkdmaksd1\n",
      "asmkdmaksd1\n",
      "asmkdmaksd1\n",
      "asmkdmaksd1\n",
      "asmkdmaksd1\n",
      "asmkdmaksd1\n",
      "asmkdmaksd1\n",
      "asmkdmaksd1\n",
      "asmkdmaksd1\n",
      "asmkdmaksd1\n",
      "asmkdmaksd1\n",
      "asmkdmaksd1\n",
      "asmkdmaksd1\n",
      "asmkdmaksd1\n",
      "asmkdmaksd1\n",
      "asmkdmaksd1\n",
      "asmkdmaksd1\n",
      "asmkdmaksd1\n",
      "asmkdmaksd1\n",
      "asmkdmaksd1\n",
      "asmkdmaksd1\n",
      "asmkdmaksd1\n",
      "asmkdmaksd1\n",
      "asmkdmaksd1\n",
      "asmkdmaksd1\n",
      "asmkdmaksd1\n",
      "asmkdmaksd1\n",
      "asmkdmaksd1\n",
      "asmkdmaksd1\n",
      "asmkdmaksd1\n",
      "asmkdmaksd1\n",
      "asmkdmaksd1\n",
      "asmkdmaksd1\n",
      "asmkdmaksd1\n",
      "asmkdmaksd1\n",
      "asmkdmaksd1\n",
      "asmkdmaksd1\n",
      "asmkdmaksd1\n",
      "asmkdmaksd1\n",
      "asmkdmaksd1\n",
      "asmkdmaksd1\n",
      "asmkdmaksd1\n",
      "asmkdmaksd1\n",
      "asmkdmaksd1\n",
      "asmkdmaksd1\n",
      "asmkdmaksd1\n",
      "asmkdmaksd1\n",
      "asmkdmaksd1\n",
      "asmkdmaksd1\n",
      "asmkdmaksd1\n",
      "asmkdmaksd1\n",
      "asmkdmaksd1\n",
      "asmkdmaksd1\n",
      "asmkdmaksd1\n",
      "asmkdmaksd1\n",
      "asmkdmaksd1\n",
      "asmkdmaksd1\n",
      "asmkdmaksd1\n",
      "asmkdmaksd1\n",
      "asmkdmaksd1\n",
      "asmkdmaksd1\n",
      "asmkdmaksd1\n",
      "asmkdmaksd1\n",
      "asmkdmaksd1\n",
      "asmkdmaksd1\n",
      "asmkdmaksd1\n",
      "asmkdmaksd1\n",
      "asmkdmaksd1\n",
      "asmkdmaksd1\n",
      "asmkdmaksd1\n",
      "asmkdmaksd1\n",
      "asmkdmaksd1\n",
      "asmkdmaksd1\n",
      "asmkdmaksd1\n",
      "asmkdmaksd1\n",
      "asmkdmaksd1\n",
      "asmkdmaksd1\n",
      "asmkdmaksd1\n",
      "asmkdmaksd1\n",
      "asmkdmaksd1\n",
      "asmkdmaksd1\n",
      "asmkdmaksd1\n",
      "asmkdmaksd1\n",
      "asmkdmaksd1\n",
      "asmkdmaksd1\n",
      "asmkdmaksd1\n",
      "asmkdmaksd1\n",
      "asmkdmaksd1\n",
      "asmkdmaksd1\n",
      "asmkdmaksd1\n",
      "asmkdmaksd1\n",
      "asmkdmaksd1\n",
      "asmkdmaksd1\n",
      "asmkdmaksd1\n",
      "asmkdmaksd1\n",
      "asmkdmaksd1\n",
      "asmkdmaksd1\n",
      "asmkdmaksd1\n",
      "asmkdmaksd1\n",
      "asmkdmaksd1\n",
      "asmkdmaksd1\n",
      "asmkdmaksd1\n",
      "asmkdmaksd1\n",
      "asmkdmaksd1\n",
      "asmkdmaksd1\n",
      "asmkdmaksd1\n",
      "asmkdmaksd1\n",
      "asmkdmaksd1\n",
      "asmkdmaksd1\n",
      "asmkdmaksd1\n",
      "asmkdmaksd1\n",
      "asmkdmaksd1\n",
      "asmkdmaksd1\n",
      "asmkdmaksd1\n",
      "asmkdmaksd1\n",
      "asmkdmaksd1\n",
      "asmkdmaksd1\n",
      "asmkdmaksd1\n",
      "asmkdmaksd1\n",
      "asmkdmaksd1\n",
      "asmkdmaksd1\n",
      "asmkdmaksd1\n",
      "asmkdmaksd1\n",
      "asmkdmaksd1\n",
      "asmkdmaksd1\n",
      "asmkdmaksd1\n",
      "asmkdmaksd1\n",
      "asmkdmaksd1\n",
      "asmkdmaksd1\n",
      "asmkdmaksd1\n",
      "asmkdmaksd1\n",
      "asmkdmaksd1\n",
      "asmkdmaksd1\n",
      "asmkdmaksd1\n",
      "asmkdmaksd1\n",
      "it= 0 loss= 2.4334520224090768\n"
     ]
    },
    {
     "data": {
      "image/png": "[encoded data removed]",
      "text/plain": [
       "<Figure size 640x480 with 2 Axes>"
      ]
     },
     "metadata": {},
     "output_type": "display_data"
    }
   ],
   "source": [
    "np.random.seed(10)\n",
    "W, b = init_params(ni=1,nh=6,no=1)\n",
    "\n",
    "print(W[0].sum() + W[1].sum())\n",
    "print(b[0].sum() + b[1].sum())\n",
    "alpha = 1e0\n",
    "max_it = 1\n",
    "L = np.zeros(max_it)\n",
    "\n",
    "fig1 = plt.figure(1)\n",
    "for it in range(max_it):\n",
    "    \n",
    "    # iterate over all smaples and sum up gradient\n",
    "    dW = [0, 0]\n",
    "    db = [0, 0]\n",
    "    y_plot = []\n",
    "    for xi, yi in zip(x, ystar):\n",
    "        ai, zi = feed_forward([xi], W, b, activations)\n",
    "\n",
    "        dWi, dbi, delta = back_prop([yi], W, b, d_act, ai, zi)\n",
    "        L[it] += loss(ai[-1], yi) / n\n",
    "        \n",
    "        y_plot.append(ai[-1])\n",
    "    \n",
    "        # sum up gradients\n",
    "        for idx in range(2):\n",
    "            dW[idx] += (dWi[idx] / n)\n",
    "            db[idx] += (dbi[idx] / n)  \n",
    "    \n",
    "    if it % 500 == 0:\n",
    "        print ('it=', it, 'loss=', L[it])\n",
    "\n",
    "        x_test = np.linspace(x.min(),x.max(),50)\n",
    "        y_test = [feed_forward([xi], W, b, activations)[1][-1] for xi in x_test]\n",
    "\n",
    "        plt.clf()\n",
    "        fig1 = plt.gcf()\n",
    "        plt.subplot(121)\n",
    "\n",
    "        plt.plot(x,ystar,'.',label='groundtruth')\n",
    "        plt.plot(x_test,y_test,'.',label='prediction')\n",
    "        plt.legend(loc='best')\n",
    "        plt.title('it = ' + str(it))\n",
    "        fig1.canvas.draw()\n",
    "        \n",
    "        plt.subplot(122)\n",
    "        plt.plot(L[:it], label='Loss') \n",
    "        plt.grid(True)\n",
    "        plt.yscale('log')\n",
    "        plt.legend(loc='best')\n",
    "        fig1.canvas.draw()\n",
    "\n",
    "        time.sleep(0.5)\n",
    "\n",
    "        \n",
    "    # do gradient step\n",
    "    for idx in range(2):\n",
    "        W[idx] = W[idx] - alpha * dW[idx]\n",
    "        b[idx] = b[idx] - alpha * db[idx]\n",
    "    "
   ]
  },
  {
   "cell_type": "code",
   "execution_count": null,
   "metadata": {},
   "outputs": [],
   "source": []
  }
 ],
 "metadata": {
  "kernelspec": {
   "display_name": "Python 3",
   "language": "python",
   "name": "python3"
  },
  "language_info": {
   "codemirror_mode": {
    "name": "ipython",
    "version": 3
   },
   "file_extension": ".py",
   "mimetype": "text/x-python",
   "name": "python",
   "nbconvert_exporter": "python",
   "pygments_lexer": "ipython3",
   "version": "3.10.9 (main, Dec 19 2022, 17:35:49) [GCC 12.2.0]"
  },
  "vscode": {
   "interpreter": {
    "hash": "e7370f93d1d0cde622a1f8e1c04877d8463912d04d973331ad4851f04de6915a"
   }
  }
 },
 "nbformat": 4,
 "nbformat_minor": 2
}
